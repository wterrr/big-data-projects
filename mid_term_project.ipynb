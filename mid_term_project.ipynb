{
  "cells": [
    {
      "cell_type": "markdown",
      "metadata": {
        "id": "xVHA3j3zw788"
      },
      "source": [
        "# Đồ án giữa kỳ\n",
        "# Môn: Xử lý dữ liệu lớn\n",
        "# Học kỳ 1 - Năm học 2022-2023\n",
        "# Giảng viên: Th.S Nguyễn Thành An"
      ]
    },
    {
      "cell_type": "markdown",
      "metadata": {
        "id": "k5Kl4LZvxO2x"
      },
      "source": [
        "# Cài đặt PySpark"
      ]
    },
    {
      "cell_type": "code",
      "execution_count": 1,
      "metadata": {
        "id": "30qo4fFaBJuk"
      },
      "outputs": [],
      "source": [
        "!apt-get install openjdk-8-jdk-headless -qq > /dev/null\n",
        "!wget -q http://archive.apache.org/dist/spark/spark-3.1.1/spark-3.1.1-bin-hadoop3.2.tgz\n",
        "!tar xf spark-3.1.1-bin-hadoop3.2.tgz\n",
        "!pip install -q findspark"
      ]
    },
    {
      "cell_type": "code",
      "execution_count": 2,
      "metadata": {
        "id": "DHpJBYNgBogr"
      },
      "outputs": [],
      "source": [
        "import os\n",
        "os.environ[\"JAVA_HOME\"] = \"/usr/lib/jvm/java-8-openjdk-amd64\"\n",
        "os.environ[\"SPARK_HOME\"] = \"/content/spark-3.1.1-bin-hadoop3.2\"\n",
        "\n",
        "import findspark\n",
        "findspark.init()"
      ]
    },
    {
      "cell_type": "markdown",
      "metadata": {
        "id": "GcUw9tifyEQY"
      },
      "source": [
        "# Yêu cầu"
      ]
    },
    {
      "cell_type": "markdown",
      "metadata": {
        "id": "j_a5qwBOyGeN"
      },
      "source": [
        "## Spark Context"
      ]
    },
    {
      "cell_type": "code",
      "execution_count": 3,
      "metadata": {
        "id": "dav0Wj-kBsqV"
      },
      "outputs": [],
      "source": [
        "from pyspark import SparkContext\n",
        "from pyspark.sql import SQLContext\n",
        "\n",
        "sc = SparkContext(\"local\")\n",
        "sqlc = SQLContext(sc)"
      ]
    },
    {
      "cell_type": "markdown",
      "metadata": {
        "id": "V3fPtIPJxhiu"
      },
      "source": [
        "## Đọc dữ liệu data.csv"
      ]
    },
    {
      "cell_type": "code",
      "execution_count": 4,
      "metadata": {
        "id": "XhsHgMmKB0GG"
      },
      "outputs": [],
      "source": [
        "data = sc.textFile('/content/data.csv')"
      ]
    },
    {
      "cell_type": "markdown",
      "metadata": {
        "id": "AkXZj6wAxpaz"
      },
      "source": [
        "## Câu 1: Đếm món hàng"
      ]
    },
    {
      "cell_type": "code",
      "execution_count": 5,
      "metadata": {
        "id": "1T_B_LIvEGvn"
      },
      "outputs": [],
      "source": [
        "'''\n",
        "Câu 1\n",
        "'''\n",
        "import numpy\n",
        "import pandas as pd\n",
        "import pyspark.sql.functions as pf\n",
        "from pyspark.sql.functions import col\n",
        "from operator import add\n",
        "\n",
        "rdd = data.map(lambda line: line.split(\",\")) \\\n",
        "          .map(lambda line: ((line[0], line[1]), 1)) \\\n",
        "          .reduceByKey(add).map(lambda line: str(line[0][0]) +','+ str(line[0][1]) + ','+ str(line[1]))\n",
        "\n",
        "rdd.coalesce(1, shuffle=False).saveAsTextFile('counters')"
      ]
    },
    {
      "cell_type": "code",
      "execution_count": 6,
      "metadata": {
        "colab": {
          "base_uri": "https://localhost:8080/"
        },
        "id": "nJPxYFGKzYV_",
        "outputId": "712e4d20-16a1-48f2-9104-7fc764e0b305"
      },
      "outputs": [
        {
          "output_type": "stream",
          "name": "stdout",
          "text": [
            "+-------------+----------+---+\n",
            "|Member_number|      Date|  1|\n",
            "+-------------+----------+---+\n",
            "|         1249|01/01/2014|  2|\n",
            "|         1381|01/01/2014|  2|\n",
            "|         1440|01/01/2014|  2|\n",
            "|         1659|01/01/2014|  2|\n",
            "|         1789|01/01/2014|  2|\n",
            "|         1922|01/01/2014|  2|\n",
            "|         2226|01/01/2014|  2|\n",
            "|         2237|01/01/2014|  2|\n",
            "|         2351|01/01/2014|  2|\n",
            "|         2542|01/01/2014|  2|\n",
            "|         2610|01/01/2014|  3|\n",
            "|         2709|01/01/2014|  2|\n",
            "|         2727|01/01/2014|  2|\n",
            "|         2943|01/01/2014|  2|\n",
            "|         2974|01/01/2014|  3|\n",
            "|         3681|01/01/2014|  3|\n",
            "|         3797|01/01/2014|  2|\n",
            "|         3942|01/01/2014|  3|\n",
            "|         3956|01/01/2014|  4|\n",
            "|         4260|01/01/2014|  2|\n",
            "+-------------+----------+---+\n",
            "only showing top 20 rows\n",
            "\n"
          ]
        }
      ],
      "source": [
        "import os\n",
        "\n",
        "if os.path.exists('/content/counters/part-00000'):\n",
        "  sqlc.read.csv('/content/counters/part-00000', header=True).show()"
      ]
    },
    {
      "cell_type": "markdown",
      "metadata": {
        "id": "hn3eY65yxsrr"
      },
      "source": [
        "## Câu 2: Giỏ hàng"
      ]
    },
    {
      "cell_type": "code",
      "execution_count": 7,
      "metadata": {
        "id": "jj6RX3EuB5wy"
      },
      "outputs": [],
      "source": [
        "from os.path import join\n",
        "'''\n",
        "Câu 2\n",
        "'''\n",
        "\n",
        "rdd_cau2 = data.map(lambda x: x.split(',')) \\\n",
        "                .map(lambda x: ((x[0], x[1]), [x[2]])) \\\n",
        "                .reduceByKey(add).map((lambda line: str(line[0][0]) +';'+ str(line[0][1]) + ';'+ str(','.join(line[1]))))\n",
        "\n",
        "rdd_cau2.coalesce(1, shuffle=False).saveAsTextFile('baskets')"
      ]
    },
    {
      "cell_type": "code",
      "execution_count": 8,
      "metadata": {
        "colab": {
          "base_uri": "https://localhost:8080/"
        },
        "id": "R8ikA_3VznX7",
        "outputId": "430911a3-020a-4070-adfb-81e4b3c947cb"
      },
      "outputs": [
        {
          "output_type": "stream",
          "name": "stdout",
          "text": [
            "+-------------+----------+--------------------+\n",
            "|Member_number|      Date|     itemDescription|\n",
            "+-------------+----------+--------------------+\n",
            "|         1249|01/01/2014| citrus fruit,coffee|\n",
            "|         1381|01/01/2014|           curd,soda|\n",
            "|         1440|01/01/2014|other vegetables,...|\n",
            "|         1659|01/01/2014|specialty chocola...|\n",
            "|         1789|01/01/2014|hamburger meat,ca...|\n",
            "|         1922|01/01/2014|tropical fruit,ot...|\n",
            "|         2226|01/01/2014|sausage,bottled w...|\n",
            "|         2237|01/01/2014|bottled water,Ins...|\n",
            "|         2351|01/01/2014|cleaner,shopping ...|\n",
            "|         2542|01/01/2014|sliced cheese,bot...|\n",
            "|         2610|01/01/2014|hamburger meat,bo...|\n",
            "|         2709|01/01/2014|yogurt,frozen veg...|\n",
            "|         2727|01/01/2014|hamburger meat,fr...|\n",
            "|         2943|01/01/2014|whole milk,flower...|\n",
            "|         2974|01/01/2014|berries,whipped/s...|\n",
            "|         3681|01/01/2014|onions,whipped/so...|\n",
            "|         3797|01/01/2014|  waffles,whole milk|\n",
            "|         3942|01/01/2014|other vegetables,...|\n",
            "|         3956|01/01/2014|yogurt,shopping b...|\n",
            "|         4260|01/01/2014|    soda,brown bread|\n",
            "+-------------+----------+--------------------+\n",
            "only showing top 20 rows\n",
            "\n"
          ]
        }
      ],
      "source": [
        "import os\n",
        "\n",
        "if os.path.exists('/content/baskets/part-00000'):\n",
        "  sqlc.read.csv('/content/baskets/part-00000', header=True, sep=';').show()"
      ]
    },
    {
      "cell_type": "markdown",
      "metadata": {
        "id": "rSCVUBRSxzb6"
      },
      "source": [
        "## Câu 3: Tập phổ biến"
      ]
    },
    {
      "cell_type": "code",
      "execution_count": 9,
      "metadata": {
        "colab": {
          "base_uri": "https://localhost:8080/"
        },
        "id": "UNIEnKDGlyaI",
        "outputId": "1a57f7c9-ff7b-45a5-d3e1-80109c06438c"
      },
      "outputs": [
        {
          "output_type": "stream",
          "name": "stdout",
          "text": [
            "+-------------+----------+--------------------+\n",
            "|Member_number|      Date|               Items|\n",
            "+-------------+----------+--------------------+\n",
            "|         1249|01/01/2014|[coffee, citrus f...|\n",
            "|         1381|01/01/2014|        [soda, curd]|\n",
            "|         1440|01/01/2014|[yogurt, other ve...|\n",
            "|         1659|01/01/2014|[specialty chocol...|\n",
            "|         1789|01/01/2014|[hamburger meat, ...|\n",
            "|         1922|01/01/2014|[other vegetables...|\n",
            "|         2226|01/01/2014|[sausage, bottled...|\n",
            "|         2237|01/01/2014|[bottled water, I...|\n",
            "|         2351|01/01/2014|[shopping bags, c...|\n",
            "|         2542|01/01/2014|[bottled water, s...|\n",
            "|         2610|01/01/2014|[hamburger meat, ...|\n",
            "|         2709|01/01/2014|[yogurt, frozen v...|\n",
            "|         2727|01/01/2014|[hamburger meat, ...|\n",
            "|         2943|01/01/2014|[whole milk, flow...|\n",
            "|         2974|01/01/2014|[bottled water, w...|\n",
            "|         3681|01/01/2014|[onions, whipped/...|\n",
            "|         3797|01/01/2014|[whole milk, waff...|\n",
            "|         3942|01/01/2014|[yogurt, other ve...|\n",
            "|         3956|01/01/2014|[shopping bags, y...|\n",
            "|         4260|01/01/2014| [soda, brown bread]|\n",
            "+-------------+----------+--------------------+\n",
            "only showing top 20 rows\n",
            "\n",
            "+--------------------+----+\n",
            "|               items|freq|\n",
            "+--------------------+----+\n",
            "|              [beef]| 508|\n",
            "|             [sugar]| 265|\n",
            "|               [oil]| 223|\n",
            "|         [chocolate]| 353|\n",
            "|        [white wine]| 175|\n",
            "|             [candy]| 215|\n",
            "|  [processed cheese]| 152|\n",
            "|              [meat]| 252|\n",
            "|       [frankfurter]| 565|\n",
            "|           [sausage]| 903|\n",
            "|           [berries]| 326|\n",
            "|            [coffee]| 473|\n",
            "|         [pip fruit]| 734|\n",
            "|  [hygiene articles]| 205|\n",
            "|       [salty snack]| 281|\n",
            "|       [white bread]| 359|\n",
            "|[specialty chocol...| 239|\n",
            "|     [domestic eggs]| 555|\n",
            "|        [rolls/buns]|1646|\n",
            "|[rolls/buns, othe...| 158|\n",
            "+--------------------+----+\n",
            "only showing top 20 rows\n",
            "\n",
            "+------------------+------------+-------------------+------------------+--------------------+\n",
            "|        antecedent|  consequent|         confidence|              lift|             support|\n",
            "+------------------+------------+-------------------+------------------+--------------------+\n",
            "|[other vegetables]|[whole milk]|0.12151067323481117|0.7694304712706219|0.014836596939116486|\n",
            "|          [yogurt]|[whole milk]|0.12996108949416343|0.8229402378760761|0.011160863463209249|\n",
            "|      [rolls/buns]|[whole milk]|0.12697448359659783|0.8040284376030019|0.013967787208447505|\n",
            "|            [soda]|[whole milk]|0.11975223675154852|0.7582956912879478|0.011628684087415625|\n",
            "+------------------+------------+-------------------+------------------+--------------------+\n",
            "\n"
          ]
        }
      ],
      "source": [
        "from pyspark.sql.functions import split\n",
        "\n",
        "tmp = sqlc.read.csv('/content/baskets/part-00000', header=True, sep=';').rdd\n",
        "temp = tmp.map(lambda x: (x[0], x[1], list(set(x[2].split(',')))))\n",
        "dfBaskets = sqlc.createDataFrame(temp,[\"Member_number\",\"Date\",\"Items\"])\n",
        "dfBaskets.show()\n",
        "\n",
        "from pyspark.ml.fpm import FPGrowth\n",
        "fpGrowth = FPGrowth(itemsCol=\"Items\", \n",
        "                    minSupport=0.01, \n",
        "                    minConfidence=0.1)\n",
        "model = fpGrowth.fit(dfBaskets)\n",
        "\n",
        "model.freqItemsets.show()\n",
        "model.associationRules.show()"
      ]
    },
    {
      "cell_type": "markdown",
      "metadata": {
        "id": "tP0VxuyzydLa"
      },
      "source": [
        "## Câu 4: Giỏ hàng thành vectors "
      ]
    },
    {
      "cell_type": "code",
      "execution_count": 10,
      "metadata": {
        "colab": {
          "base_uri": "https://localhost:8080/"
        },
        "id": "Wmbme2mTefuZ",
        "outputId": "ceaa29a9-cbc2-452d-b3b0-30eba0e55ec2"
      },
      "outputs": [
        {
          "output_type": "stream",
          "name": "stdout",
          "text": [
            "+-------------+--------------------+\n",
            "|Member_number|               Items|\n",
            "+-------------+--------------------+\n",
            "|         1249|citrus fruit,coff...|\n",
            "|         1381|curd,soda,coffee,...|\n",
            "|         1440|other vegetables,...|\n",
            "|         1659|specialty chocola...|\n",
            "|         1789|hamburger meat,ca...|\n",
            "|         1922|tropical fruit,ot...|\n",
            "|         2226|sausage,bottled w...|\n",
            "|         2237|bottled water,Ins...|\n",
            "|         2351|cleaner,shopping ...|\n",
            "|         2542|sliced cheese,bot...|\n",
            "|         2610|hamburger meat,bo...|\n",
            "|         2709|yogurt,frozen veg...|\n",
            "|         2727|hamburger meat,fr...|\n",
            "|         2943|whole milk,flower...|\n",
            "|         2974|berries,whipped/s...|\n",
            "|         3681|onions,whipped/so...|\n",
            "|         3797|waffles,whole mil...|\n",
            "|         3942|other vegetables,...|\n",
            "|         3956|yogurt,shopping b...|\n",
            "|         4260|soda,brown bread,...|\n",
            "+-------------+--------------------+\n",
            "only showing top 20 rows\n",
            "\n",
            "['Instant food products', 'UHT-milk', 'abrasive cleaner', 'artif. sweetener', 'baby cosmetics', 'bags', 'baking powder', 'bathroom cleaner', 'beef', 'berries', 'beverages', 'bottled beer', 'bottled water', 'brandy', 'brown bread', 'butter', 'butter milk', 'cake bar', 'candles', 'candy', 'canned beer', 'canned fish', 'canned fruit', 'canned vegetables', 'cat food', 'cereals', 'chewing gum', 'chicken', 'chocolate', 'chocolate marshmallow', 'citrus fruit', 'cleaner', 'cling film/bags', 'cocoa drinks', 'coffee', 'condensed milk', 'cooking chocolate', 'cookware', 'cream', 'cream cheese ', 'curd', 'curd cheese', 'decalcifier', 'dental care', 'dessert', 'detergent', 'dish cleaner', 'dishes', 'dog food', 'domestic eggs', 'female sanitary products', 'finished products', 'fish', 'flour', 'flower (seeds)', 'flower soil/fertilizer', 'frankfurter', 'frozen chicken', 'frozen dessert', 'frozen fish', 'frozen fruits', 'frozen meals', 'frozen potato products', 'frozen vegetables', 'fruit/vegetable juice', 'grapes', 'hair spray', 'ham', 'hamburger meat', 'hard cheese', 'herbs', 'honey', 'house keeping products', 'hygiene articles', 'ice cream', 'instant coffee', 'jam', 'ketchup', 'kitchen towels', 'kitchen utensil', 'light bulbs', 'liqueur', 'liquor', 'liquor (appetizer)', 'liver loaf', 'long life bakery product', 'make up remover', 'male cosmetics', 'margarine', 'mayonnaise', 'meat', 'meat spreads', 'misc. beverages', 'mustard', 'napkins', 'newspapers', 'nut snack', 'nuts/prunes', 'oil', 'onions', 'organic products', 'organic sausage', 'other vegetables', 'packaged fruit/vegetables', 'pasta', 'pastry', 'pet care', 'photo/film', 'pickled vegetables', 'pip fruit', 'popcorn', 'pork', 'pot plants', 'potato products', 'preservation products', 'processed cheese', 'prosecco', 'pudding powder', 'ready soups', 'red/blush wine', 'rice', 'roll products ', 'rolls/buns', 'root vegetables', 'rubbing alcohol', 'rum', 'salad dressing', 'salt', 'salty snack', 'sauces', 'sausage', 'seasonal products', 'semi-finished bread', 'shopping bags', 'skin care', 'sliced cheese', 'snack products', 'soap', 'soda', 'soft cheese', 'softener', 'soups', 'sparkling wine', 'specialty bar', 'specialty cheese', 'specialty chocolate', 'specialty fat', 'specialty vegetables', 'spices', 'spread cheese', 'sugar', 'sweet spreads', 'syrup', 'tea', 'tidbits', 'toilet cleaner', 'tropical fruit', 'turkey', 'vinegar', 'waffles', 'whipped/sour cream', 'whisky', 'white bread', 'white wine', 'whole milk', 'yogurt', 'zwieback']\n",
            "{'Instant food products': 0, 'UHT-milk': 1, 'abrasive cleaner': 2, 'artif. sweetener': 3, 'baby cosmetics': 4, 'bags': 5, 'baking powder': 6, 'bathroom cleaner': 7, 'beef': 8, 'berries': 9, 'beverages': 10, 'bottled beer': 11, 'bottled water': 12, 'brandy': 13, 'brown bread': 14, 'butter': 15, 'butter milk': 16, 'cake bar': 17, 'candles': 18, 'candy': 19, 'canned beer': 20, 'canned fish': 21, 'canned fruit': 22, 'canned vegetables': 23, 'cat food': 24, 'cereals': 25, 'chewing gum': 26, 'chicken': 27, 'chocolate': 28, 'chocolate marshmallow': 29, 'citrus fruit': 30, 'cleaner': 31, 'cling film/bags': 32, 'cocoa drinks': 33, 'coffee': 34, 'condensed milk': 35, 'cooking chocolate': 36, 'cookware': 37, 'cream': 38, 'cream cheese ': 39, 'curd': 40, 'curd cheese': 41, 'decalcifier': 42, 'dental care': 43, 'dessert': 44, 'detergent': 45, 'dish cleaner': 46, 'dishes': 47, 'dog food': 48, 'domestic eggs': 49, 'female sanitary products': 50, 'finished products': 51, 'fish': 52, 'flour': 53, 'flower (seeds)': 54, 'flower soil/fertilizer': 55, 'frankfurter': 56, 'frozen chicken': 57, 'frozen dessert': 58, 'frozen fish': 59, 'frozen fruits': 60, 'frozen meals': 61, 'frozen potato products': 62, 'frozen vegetables': 63, 'fruit/vegetable juice': 64, 'grapes': 65, 'hair spray': 66, 'ham': 67, 'hamburger meat': 68, 'hard cheese': 69, 'herbs': 70, 'honey': 71, 'house keeping products': 72, 'hygiene articles': 73, 'ice cream': 74, 'instant coffee': 75, 'jam': 76, 'ketchup': 77, 'kitchen towels': 78, 'kitchen utensil': 79, 'light bulbs': 80, 'liqueur': 81, 'liquor': 82, 'liquor (appetizer)': 83, 'liver loaf': 84, 'long life bakery product': 85, 'make up remover': 86, 'male cosmetics': 87, 'margarine': 88, 'mayonnaise': 89, 'meat': 90, 'meat spreads': 91, 'misc. beverages': 92, 'mustard': 93, 'napkins': 94, 'newspapers': 95, 'nut snack': 96, 'nuts/prunes': 97, 'oil': 98, 'onions': 99, 'organic products': 100, 'organic sausage': 101, 'other vegetables': 102, 'packaged fruit/vegetables': 103, 'pasta': 104, 'pastry': 105, 'pet care': 106, 'photo/film': 107, 'pickled vegetables': 108, 'pip fruit': 109, 'popcorn': 110, 'pork': 111, 'pot plants': 112, 'potato products': 113, 'preservation products': 114, 'processed cheese': 115, 'prosecco': 116, 'pudding powder': 117, 'ready soups': 118, 'red/blush wine': 119, 'rice': 120, 'roll products ': 121, 'rolls/buns': 122, 'root vegetables': 123, 'rubbing alcohol': 124, 'rum': 125, 'salad dressing': 126, 'salt': 127, 'salty snack': 128, 'sauces': 129, 'sausage': 130, 'seasonal products': 131, 'semi-finished bread': 132, 'shopping bags': 133, 'skin care': 134, 'sliced cheese': 135, 'snack products': 136, 'soap': 137, 'soda': 138, 'soft cheese': 139, 'softener': 140, 'soups': 141, 'sparkling wine': 142, 'specialty bar': 143, 'specialty cheese': 144, 'specialty chocolate': 145, 'specialty fat': 146, 'specialty vegetables': 147, 'spices': 148, 'spread cheese': 149, 'sugar': 150, 'sweet spreads': 151, 'syrup': 152, 'tea': 153, 'tidbits': 154, 'toilet cleaner': 155, 'tropical fruit': 156, 'turkey': 157, 'vinegar': 158, 'waffles': 159, 'whipped/sour cream': 160, 'whisky': 161, 'white bread': 162, 'white wine': 163, 'whole milk': 164, 'yogurt': 165, 'zwieback': 166}\n",
            "(167,[11,30,34,61,138],[1.0,1.0,1.0,1.0,1.0])\n"
          ]
        }
      ],
      "source": [
        "from IPython.utils.py3compat import iteritems\n",
        "'''\n",
        "Câu 4\n",
        "'''\n",
        "from pyspark.sql.functions import array_distinct\n",
        "tmp = sqlc.read.csv('/content/baskets/part-00000', header=True, sep=';').rdd\n",
        "temp = tmp.map(lambda x: (x[0], x[2].split(','))).reduceByKey(lambda x,y: x+y).map(lambda x: (x[0], ','.join(x[1])))\n",
        "dfMembers = sqlc.createDataFrame(temp,[\"Member_number\",\"Items\"])\n",
        "dfMembers.show()\n",
        "\n",
        "items = dfMembers.select(\"Items\").rdd.flatMap(lambda x: (it.split(',') for it in x))\n",
        "\n",
        "listItems = []\n",
        "for i in items.collect():\n",
        "  listItems += i\n",
        "\n",
        "listItems = list(set(listItems))\n",
        "listItems.sort()\n",
        "print(listItems)\n",
        "\n",
        "def dictItems(listItems):\n",
        "  return {it:i for i, it in enumerate(listItems)}\n",
        "\n",
        "dictItems = dictItems(listItems)\n",
        "print(dictItems)\n",
        "\n",
        "from pyspark.ml.linalg import Vectors\n",
        "  \n",
        "def basket2vector(member, basket, dictItems):\n",
        "  basket = basket.split(',')\n",
        "  basket.sort()\n",
        "  items = []\n",
        "  exist = []\n",
        "  for i in basket:\n",
        "    items.append(dictItems[i])\n",
        "    exist.append(1.0)\n",
        "  return Vectors.sparse(len(dictItems), items, exist)\n",
        "\n",
        "print(basket2vector(dfMembers.first()[\"Member_number\"], dfMembers.first()[\"Items\"], dictItems))"
      ]
    },
    {
      "cell_type": "markdown",
      "metadata": {
        "id": "W7zegTh8yogd"
      },
      "source": [
        "## Câu 5: Giỏ hàng tương tự"
      ]
    },
    {
      "cell_type": "code",
      "execution_count": 11,
      "metadata": {
        "colab": {
          "base_uri": "https://localhost:8080/"
        },
        "id": "BKxpa0DyuL7_",
        "outputId": "69a4a8fb-6938-460c-831e-53af36cd4c2c"
      },
      "outputs": [
        {
          "output_type": "stream",
          "name": "stdout",
          "text": [
            "+-------------+--------------------+--------------------+\n",
            "|Member_number|               Items|              Hashes|\n",
            "+-------------+--------------------+--------------------+\n",
            "|         1249|(167,[11,30,34,61...|[[2.2371912E7], [...|\n",
            "|         1381|(167,[1,10,11,28,...|[[2.2371912E7], [...|\n",
            "|         1440|(167,[28,64,102,1...|[[1.21253679E8], ...|\n",
            "|         1659|(167,[12,14,26,34...|[[1.98803892E8], ...|\n",
            "|         1789|(167,[8,18,30,58,...|[[1.14143161E8], ...|\n",
            "|         1922|(167,[10,12,15,16...|[[1.21253679E8], ...|\n",
            "|         2226|(167,[9,12,23,40,...|[[4595617.0], [4....|\n",
            "|         2237|(167,[0,12,27,34,...|[[1.10587902E8], ...|\n",
            "|         2351|(167,[31,49,75,10...|[[1.8816653E7], [...|\n",
            "|         2542|(167,[12,82,88,94...|[[1.10587902E8], ...|\n",
            "|         2610|(167,[11,49,68,90...|[[2.2371912E7], [...|\n",
            "|         2709|(167,[12,30,40,44...|[[1.98803892E8], ...|\n",
            "|         2727|(167,[11,52,56,61...|[[2.2371912E7], [...|\n",
            "|         2943|(167,[20,29,33,54...|[[1.14143161E8], ...|\n",
            "|         2974|(167,[9,12,63,70,...|[[2.09469669E8], ...|\n",
            "|         3681|(167,[47,63,88,99...|[[1.10587902E8], ...|\n",
            "|         3797|(167,[15,38,64,10...|[[3.11906695E8], ...|\n",
            "|         3942|(167,[0,21,32,35,...|[[1.14143161E8], ...|\n",
            "|         3956|(167,[0,16,21,28,...|[[1.10587902E8], ...|\n",
            "|         4260|(167,[14,20,27,63...|[[1.10587902E8], ...|\n",
            "+-------------+--------------------+--------------------+\n",
            "only showing top 20 rows\n",
            "\n",
            "+----+----+-------------------+\n",
            "| idA| idB|    JaccardDistance|\n",
            "+----+----+-------------------+\n",
            "|4116|2088| 0.2857142857142857|\n",
            "|3498|3008| 0.2857142857142857|\n",
            "|4174|2199|               0.25|\n",
            "|3124|1063|               0.25|\n",
            "|2088|4116| 0.2857142857142857|\n",
            "|3714|2911|               0.25|\n",
            "|3887|2949|               0.25|\n",
            "|1367|1161| 0.2857142857142857|\n",
            "|2347|1401|               0.25|\n",
            "|3715|4805|               0.25|\n",
            "|4535|1643|0.19999999999999996|\n",
            "|1161|1367| 0.2857142857142857|\n",
            "|4805|3715|               0.25|\n",
            "|3216|4805|               0.25|\n",
            "|1164|4730|0.19999999999999996|\n",
            "|1401|2347|               0.25|\n",
            "|2199|4174|               0.25|\n",
            "|1056|4342| 0.2857142857142857|\n",
            "|1860|3605|               0.25|\n",
            "|4174|3124|               0.25|\n",
            "+----+----+-------------------+\n",
            "only showing top 20 rows\n",
            "\n",
            "+-------------+--------------------+--------------------+------------------+\n",
            "|Member_number|               Items|              Hashes|           distCol|\n",
            "+-------------+--------------------+--------------------+------------------+\n",
            "|         1249|(167,[11,30,34,61...|[[2.2371912E7], [...|               0.0|\n",
            "|         1321|(167,[11,30,138],...|[[2.2371912E7], [...|               0.4|\n",
            "|         1263|(167,[11,30,61,10...|[[2.2371912E7], [...|               0.5|\n",
            "|         1794|(167,[11,30,138,1...|[[2.2371912E7], [...|0.5714285714285714|\n",
            "|         4327|(167,[30,34,63,76...|[[5.20336006E8], ...|0.5714285714285714|\n",
            "+-------------+--------------------+--------------------+------------------+\n",
            "\n"
          ]
        }
      ],
      "source": [
        "from pyspark.ml.feature import MinHashLSH\n",
        "\n",
        "dfTemp = dfMembers.rdd.map(lambda x: (x[0], x[1]))\n",
        "\n",
        "vectorItems = []\n",
        "for i in dfTemp.collect():\n",
        " vectorItems.append((i[0], basket2vector(i[0],','.join(list(set(i[1].split(',')))), dictItems)))\n",
        "\n",
        "dfA = sqlc.createDataFrame(vectorItems, [\"Member_number\", \"Items\"])\n",
        "\n",
        "mh = MinHashLSH(inputCol=\"Items\", outputCol=\"Hashes\", numHashTables=5)\n",
        "model = mh.fit(dfA)\n",
        "\n",
        "model.transform(dfA).show()\n",
        "\n",
        "tranform_df = model.transform(dfA)\n",
        "model.approxSimilarityJoin(tranform_df, tranform_df, 0.3, \"JaccardDistance\") \\\n",
        "  .select(col(\"datasetA.Member_number\").alias(\"idA\"),\n",
        "    col(\"datasetB.Member_number\").alias(\"idB\"),\n",
        "    col(\"JaccardDistance\")).filter('JaccardDistance>0').show()\n",
        "\n",
        "key = dfA.collect()[0]['Items']\n",
        "\n",
        "model.approxNearestNeighbors(dfA, key, 5).show()"
      ]
    },
    {
      "cell_type": "markdown",
      "metadata": {
        "id": "ZNfhgOGKy2Yh"
      },
      "source": [
        "## Câu 6: Phân cụm người dùng theo giỏ hàng"
      ]
    },
    {
      "cell_type": "code",
      "execution_count": 12,
      "metadata": {
        "colab": {
          "base_uri": "https://localhost:8080/"
        },
        "id": "sWo0HJZ2wQsb",
        "outputId": "7dc6ff8a-b2f2-4cd3-8a43-563d3afa0b79"
      },
      "outputs": [
        {
          "output_type": "stream",
          "name": "stdout",
          "text": [
            "+-------------+--------------------+----------+\n",
            "|Member_number|               Items|prediction|\n",
            "+-------------+--------------------+----------+\n",
            "|         1249|(167,[11,30,34,61...|         1|\n",
            "|         1381|(167,[1,10,11,28,...|         0|\n",
            "|         1440|(167,[28,64,102,1...|         4|\n",
            "|         1659|(167,[12,14,26,34...|         4|\n",
            "|         1789|(167,[8,18,30,58,...|         4|\n",
            "|         1922|(167,[10,12,15,16...|         4|\n",
            "|         2226|(167,[9,12,23,40,...|         4|\n",
            "|         2237|(167,[0,12,27,34,...|         1|\n",
            "|         2351|(167,[31,49,75,10...|         2|\n",
            "|         2542|(167,[12,82,88,94...|         3|\n",
            "|         2610|(167,[11,49,68,90...|         2|\n",
            "|         2709|(167,[12,30,40,44...|         4|\n",
            "|         2727|(167,[11,52,56,61...|         1|\n",
            "|         2943|(167,[20,29,33,54...|         1|\n",
            "|         2974|(167,[9,12,63,70,...|         1|\n",
            "|         3681|(167,[47,63,88,99...|         1|\n",
            "|         3797|(167,[15,38,64,10...|         3|\n",
            "|         3942|(167,[0,21,32,35,...|         4|\n",
            "|         3956|(167,[0,16,21,28,...|         3|\n",
            "|         4260|(167,[14,20,27,63...|         3|\n",
            "+-------------+--------------------+----------+\n",
            "only showing top 20 rows\n",
            "\n"
          ]
        }
      ],
      "source": [
        "'''\n",
        "Câu 6\n",
        "'''\n",
        "from pyspark.ml.clustering import KMeans, KMeansModel\n",
        "\n",
        "kmeans = KMeans(k=5)\n",
        "\n",
        "dfTemp = dfMembers.rdd.map(lambda x: (x[0], x[1]))\n",
        "\n",
        "vectorItems = []\n",
        "for i in dfTemp.collect():\n",
        " vectorItems.append((i[0], basket2vector(i[0],','.join(list(set(i[1].split(',')))), dictItems)))\n",
        "\n",
        "dfB = sqlc.createDataFrame(vectorItems, [\"label\", \"features\"])\n",
        "\n",
        "model = kmeans.fit(dfB)\n",
        "model.setPredictionCol('prediction')\n",
        "transformed = model.transform(dfB)\n",
        "transformed = transformed.withColumnRenamed(\"label\",\"Member_number\") \\\n",
        "                          .withColumnRenamed(\"features\",\"Items\")\n",
        "transformed.show()"
      ]
    }
  ],
  "metadata": {
    "colab": {
      "collapsed_sections": [],
      "provenance": []
    },
    "kernelspec": {
      "display_name": "Python 3",
      "name": "python3"
    },
    "language_info": {
      "name": "python"
    }
  },
  "nbformat": 4,
  "nbformat_minor": 0
}